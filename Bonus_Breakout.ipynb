{
 "cells": [
  {
   "cell_type": "code",
   "execution_count": 1,
   "metadata": {
    "collapsed": true
   },
   "outputs": [],
   "source": [
    "from __future__ import division\n",
    "\n",
    "import gym\n",
    "import numpy as np\n",
    "import random\n",
    "import tensorflow as tf\n",
    "import tensorflow.contrib.slim as slim\n",
    "import matplotlib.pyplot as plt\n",
    "import scipy.misc\n",
    "import os\n",
    "%matplotlib inline"
   ]
  },
  {
   "cell_type": "code",
   "execution_count": 2,
   "metadata": {
    "collapsed": false
   },
   "outputs": [],
   "source": [
    "from scipy.misc import imresize"
   ]
  },
  {
   "cell_type": "markdown",
   "metadata": {},
   "source": [
    "### Load the game environment"
   ]
  },
  {
   "cell_type": "code",
   "execution_count": 3,
   "metadata": {
    "collapsed": false,
    "scrolled": false
   },
   "outputs": [
    {
     "name": "stderr",
     "output_type": "stream",
     "text": [
      "INFO:gym.envs.registration:Making new env: BreakoutDeterministic-v4\n",
      "[2017-11-29 02:38:50,060] Making new env: BreakoutDeterministic-v4\n"
     ]
    },
    {
     "name": "stdout",
     "output_type": "stream",
     "text": [
      "(210, 160, 3)\n"
     ]
    }
   ],
   "source": [
    "# print(gym.envs.registry.all())\n",
    "env = gym.make('BreakoutDeterministic-v4')\n",
    "observation = env.reset() # This gets us the image\n",
    "print (observation.shape)"
   ]
  },
  {
   "cell_type": "code",
   "execution_count": 4,
   "metadata": {
    "collapsed": false
   },
   "outputs": [
    {
     "data": {
      "text/plain": [
       "['__class__',\n",
       " '__del__',\n",
       " '__delattr__',\n",
       " '__dict__',\n",
       " '__dir__',\n",
       " '__doc__',\n",
       " '__eq__',\n",
       " '__format__',\n",
       " '__ge__',\n",
       " '__getattribute__',\n",
       " '__gt__',\n",
       " '__hash__',\n",
       " '__init__',\n",
       " '__le__',\n",
       " '__lt__',\n",
       " '__module__',\n",
       " '__ne__',\n",
       " '__new__',\n",
       " '__reduce__',\n",
       " '__reduce_ex__',\n",
       " '__repr__',\n",
       " '__setattr__',\n",
       " '__sizeof__',\n",
       " '__str__',\n",
       " '__subclasshook__',\n",
       " '__weakref__',\n",
       " '_close',\n",
       " '_closed',\n",
       " '_elapsed_seconds',\n",
       " '_elapsed_steps',\n",
       " '_ensure_no_double_wrap',\n",
       " '_env_closer_id',\n",
       " '_episode_started_at',\n",
       " '_max_episode_seconds',\n",
       " '_max_episode_steps',\n",
       " '_owns_render',\n",
       " '_past_limit',\n",
       " '_render',\n",
       " '_reset',\n",
       " '_seed',\n",
       " '_spec',\n",
       " '_step',\n",
       " 'action_space',\n",
       " 'class_name',\n",
       " 'close',\n",
       " 'configure',\n",
       " 'env',\n",
       " 'metadata',\n",
       " 'observation_space',\n",
       " 'render',\n",
       " 'reset',\n",
       " 'reward_range',\n",
       " 'seed',\n",
       " 'spec',\n",
       " 'step',\n",
       " 'unwrapped']"
      ]
     },
     "execution_count": 4,
     "metadata": {},
     "output_type": "execute_result"
    }
   ],
   "source": [
    "dir(env)"
   ]
  },
  {
   "cell_type": "code",
   "execution_count": 5,
   "metadata": {
    "collapsed": true
   },
   "outputs": [],
   "source": [
    "frame, reward, is_done, _ = env.step(env.action_space.sample())"
   ]
  },
  {
   "cell_type": "code",
   "execution_count": 6,
   "metadata": {
    "collapsed": false
   },
   "outputs": [
    {
     "name": "stdout",
     "output_type": "stream",
     "text": [
      "(210, 160, 3) uint8\n"
     ]
    }
   ],
   "source": [
    "print (frame.shape, frame.dtype)"
   ]
  },
  {
   "cell_type": "code",
   "execution_count": 7,
   "metadata": {
    "collapsed": false
   },
   "outputs": [
    {
     "data": {
      "text/plain": [
       "<matplotlib.image.AxesImage at 0x7f4b76492e10>"
      ]
     },
     "execution_count": 7,
     "metadata": {},
     "output_type": "execute_result"
    },
    {
     "data": {
      "image/png": "[encoded data removed]",
      "text/plain": [
       "<matplotlib.figure.Figure at 0x7f4b78a235f8>"
      ]
     },
     "metadata": {},
     "output_type": "display_data"
    }
   ],
   "source": [
    "plt.imshow(frame)"
   ]
  },
  {
   "cell_type": "code",
   "execution_count": 8,
   "metadata": {
    "collapsed": true
   },
   "outputs": [],
   "source": [
    "def to_grayscale(img):\n",
    "    return np.dot(img[...,:3], [0.299, 0.587, 0.114]).astype(np.uint8)\n",
    "\n",
    "def crop(img,cropx=None,cropy=None):\n",
    "    y,x,c = img.shape\n",
    "    if (cropx is None) :\n",
    "        cropx = min(y, x)\n",
    "    if (cropy is None) :\n",
    "        cropy = min(y, x)\n",
    "    startx = x//2 - cropx//2\n",
    "    starty = y - cropy    \n",
    "    return img[starty:starty+cropy, startx:startx+cropx, :]\n",
    "\n",
    "def preprocess(img):\n",
    "#     return imresize(to_grayscale(crop(img))/127.5-1, (84, 84), 'cubic', 'F')\n",
    "    return imresize(crop(img)/127.5-1, (84, 84), 'cubic', 'RGB')\n",
    "\n",
    "def transform_reward(reward):\n",
    "        return np.sign(reward)"
   ]
  },
  {
   "cell_type": "code",
   "execution_count": 9,
   "metadata": {
    "collapsed": false
   },
   "outputs": [
    {
     "name": "stdout",
     "output_type": "stream",
     "text": [
      "(84, 84, 3) uint8 255 0 46.4648053666\n"
     ]
    },
    {
     "data": {
      "image/png": "[encoded data removed]",
      "text/plain": [
       "<matplotlib.figure.Figure at 0x7f4b764079b0>"
      ]
     },
     "metadata": {},
     "output_type": "display_data"
    }
   ],
   "source": [
    "a = preprocess(frame)\n",
    "plt.imshow(a)\n",
    "print (a.shape, a.dtype, np.max(a), np.min(a), np.mean(a))\n",
    "# plt.imshow(to_grayscale(frame))"
   ]
  },
  {
   "cell_type": "code",
   "execution_count": 10,
   "metadata": {
    "collapsed": true
   },
   "outputs": [],
   "source": [
    "class experience_buffer():\n",
    "    def __init__(self, buffer_size = 50000):\n",
    "        self.buffer = []\n",
    "        self.buffer_size = buffer_size\n",
    "    \n",
    "    def add(self,experience):\n",
    "        if len(self.buffer) + len(experience) >= self.buffer_size:\n",
    "            self.buffer[0:(len(experience)+len(self.buffer))-self.buffer_size] = []\n",
    "        self.buffer.extend(experience)\n",
    "            \n",
    "    def sample(self,size):\n",
    "        return np.reshape(np.array(random.sample(self.buffer,size)),[size,5])"
   ]
  },
  {
   "cell_type": "code",
   "execution_count": 11,
   "metadata": {
    "collapsed": true
   },
   "outputs": [],
   "source": [
    "def processState(states):\n",
    "    return np.reshape(states,[21168*4]) # 84 x 84 x 3"
   ]
  },
  {
   "cell_type": "code",
   "execution_count": 12,
   "metadata": {
    "collapsed": true
   },
   "outputs": [],
   "source": [
    "def addToHistory(his, s):\n",
    "    his.pop(0)\n",
    "    his.append(s)"
   ]
  },
  {
   "cell_type": "code",
   "execution_count": 13,
   "metadata": {
    "collapsed": true
   },
   "outputs": [],
   "source": [
    "def his2np(his):\n",
    "    return np.concatenate(tuple(his), axis=2)"
   ]
  },
  {
   "cell_type": "code",
   "execution_count": 14,
   "metadata": {
    "collapsed": false
   },
   "outputs": [],
   "source": [
    "def state2input(his, s):\n",
    "    addToHistory(his, preprocess(s))\n",
    "    return his2np(his)"
   ]
  },
  {
   "cell_type": "code",
   "execution_count": 15,
   "metadata": {
    "collapsed": false
   },
   "outputs": [
    {
     "name": "stdout",
     "output_type": "stream",
     "text": [
      "(210, 160, 3)\n",
      "(84672,)\n",
      "(84672,)\n"
     ]
    }
   ],
   "source": [
    "state_history = []\n",
    "s = env.reset()\n",
    "for idx in range(4):\n",
    "    state_history.append(preprocess(s))\n",
    "print (s.shape)\n",
    "s = state2input(state_history, s)\n",
    "s = processState(s)\n",
    "print (s.shape)\n",
    "s = env.reset()\n",
    "s = state2input(state_history, s)\n",
    "s = processState(s)\n",
    "print (s.shape)"
   ]
  },
  {
   "cell_type": "code",
   "execution_count": 16,
   "metadata": {
    "collapsed": true
   },
   "outputs": [],
   "source": [
    "def updateTargetGraph(tfVars,tau):\n",
    "    total_vars = len(tfVars)\n",
    "    op_holder = []\n",
    "    for idx,var in enumerate(tfVars[0:total_vars//2]):\n",
    "        op_holder.append(tfVars[idx+total_vars//2].assign((var.value()*tau) + ((1-tau)*tfVars[idx+total_vars//2].value())))\n",
    "    return op_holder\n",
    "\n",
    "def updateTarget(op_holder,sess):\n",
    "    for op in op_holder:\n",
    "        sess.run(op)"
   ]
  },
  {
   "cell_type": "code",
   "execution_count": 17,
   "metadata": {
    "collapsed": true
   },
   "outputs": [],
   "source": [
    "class Qnetwork():\n",
    "    def __init__(self,h_size):\n",
    "        #The network recieves a frame from the game, flattened into an array.\n",
    "        #It then resizes it and processes it through four convolutional layers.\n",
    "        #We use slim.conv2d to set up our network \n",
    "        self.scalarInput =  tf.placeholder(shape=[None,21168*4],dtype=tf.float32)\n",
    "        self.imageIn = tf.reshape(self.scalarInput,shape=[-1,84,84,3*4])\n",
    "#         self.conv1 = slim.conv2d( \\\n",
    "#             inputs=self.imageIn,num_outputs=32,kernel_size=[8,8],stride=[4,4],padding='VALID', biases_initializer=None)\n",
    "#         self.conv2 = slim.conv2d( \\\n",
    "#             inputs=self.conv1,num_outputs=64,kernel_size=[4,4],stride=[2,2],padding='VALID', biases_initializer=None)\n",
    "#         self.conv3 = slim.conv2d( \\\n",
    "#             inputs=self.conv2,num_outputs=64,kernel_size=[3,3],stride=[1,1],padding='VALID', biases_initializer=None)\n",
    "#         self.conv4 = slim.conv2d( \\\n",
    "#             inputs=self.conv3,num_outputs=h_size,kernel_size=[7,7],stride=[1,1],padding='VALID', biases_initializer=None)\n",
    "        self.conv1 = slim.conv2d( \\\n",
    "            inputs=self.imageIn,num_outputs=32,kernel_size=[8,8],stride=[4,4],padding='VALID', biases_initializer=None)\n",
    "        self.conv2 = slim.conv2d( \\\n",
    "            inputs=self.conv1,num_outputs=64,kernel_size=[4,4],stride=[2,2],padding='VALID', biases_initializer=None)\n",
    "        self.conv3 = slim.conv2d( \\\n",
    "            inputs=self.conv2,num_outputs=64,kernel_size=[3,3],stride=[1,1],padding='VALID', biases_initializer=None)\n",
    "        self.conv4 = slim.conv2d( \\\n",
    "            inputs=self.conv3,num_outputs=h_size,kernel_size=[7,7],stride=[1,1],padding='VALID', biases_initializer=None)\n",
    "        \n",
    "        \n",
    "        ################################################################################\n",
    "        # TODO: Implement Dueling DQN                                                  #\n",
    "        # We take the output from the final convolutional layer i.e. self.conv4 and    #\n",
    "        # split it into separate advantage and value streams.                          #\n",
    "        # Outout: self.Advantage, self.Value                                           #\n",
    "        # Hint: Refer to Fig.1 in [Dueling DQN](https://arxiv.org/pdf/1511.06581.pdf)  #\n",
    "        #       In implementation, use tf.split to split into two branches. You may    #\n",
    "        #       use xavier_initializer for initializing the two additional linear      #\n",
    "        #       layers.                                                                # \n",
    "        ################################################################################\n",
    "        pass\n",
    "        init = tf.contrib.layers.xavier_initializer()\n",
    "        V_split, A_split = tf.split(self.conv4, 2, 3)\n",
    "#         V_split = tf.reshape(V_split, [-1, h_size])\n",
    "#         A_split = tf.reshape(A_split, [-1, h_size])\n",
    "        V_split = slim.flatten(V_split)\n",
    "        A_split = slim.flatten(A_split)\n",
    "        self.Value = tf.layers.dense(V_split, 1, kernel_initializer=init)\n",
    "        self.Advantage = tf.layers.dense(A_split, env.action_space.n, kernel_initializer=init)\n",
    "        ################################################################################\n",
    "        #                                 END OF YOUR CODE                             #\n",
    "        ################################################################################\n",
    "        \n",
    "        #Then combine them together to get our final Q-values. \n",
    "        #Please refer to Equation (9) in [Dueling DQN](https://arxiv.org/pdf/1511.06581.pdf)\n",
    "        self.Qout = self.Value + tf.subtract(self.Advantage,tf.reduce_mean(self.Advantage,axis=1,keep_dims=True))\n",
    "        self.predict = tf.argmax(self.Qout,1)\n",
    "        \n",
    "        #Below we obtain the loss by taking the sum of squares difference between the target and prediction Q values.\n",
    "        self.targetQ = tf.placeholder(shape=[None],dtype=tf.float32)\n",
    "        self.actions = tf.placeholder(shape=[None],dtype=tf.int32)\n",
    "        self.actions_onehot = tf.one_hot(self.actions,env.action_space.n,dtype=tf.float32)\n",
    "        \n",
    "        ################################################################################\n",
    "        # TODO:                                                                        #\n",
    "        # Obtain the loss (self.loss) by taking the sum of squares difference          #\n",
    "        # between the target and prediction Q values.                                  #\n",
    "        ################################################################################\n",
    "        pass\n",
    "        self.Q = tf.reduce_sum(tf.multiply(self.Qout, self.actions_onehot), axis=1)\n",
    "        self.loss = tf.reduce_sum(tf.square(self.Q-self.targetQ))\n",
    "        ################################################################################\n",
    "        #                                 END OF YOUR CODE                             #\n",
    "        ################################################################################\n",
    "        \n",
    "        self.trainer = tf.train.AdamOptimizer(learning_rate=0.0001)\n",
    "        self.updateModel = self.trainer.minimize(self.loss)"
   ]
  },
  {
   "cell_type": "markdown",
   "metadata": {},
   "source": [
    "### Training the network"
   ]
  },
  {
   "cell_type": "markdown",
   "metadata": {},
   "source": [
    "Setting all the training parameters"
   ]
  },
  {
   "cell_type": "code",
   "execution_count": 18,
   "metadata": {
    "collapsed": true
   },
   "outputs": [],
   "source": [
    "batch_size = 32 #How many experiences to use for each training step.\n",
    "update_freq = 4 #How often to perform a training step.\n",
    "y = .99 #Discount factor on the target Q-values\n",
    "startE = 1 #Starting chance of random action\n",
    "endE = 0.1 #Final chance of random action\n",
    "annealing_steps = 10000. #How many steps of training to reduce startE to endE.\n",
    "num_episodes = 5000 #How many episodes of game environment to train network with.\n",
    "pre_train_steps = 10000 #How many steps of random actions before training begins.\n",
    "max_epLength = 500 #The max allowed length of our episode.\n",
    "load_model = True #Whether to load a saved model.\n",
    "path = \"./dqn_breakout\" #The path to save our model to.\n",
    "h_size = 512 #The size of the final convolutional layer before splitting it into Advantage and Value streams.\n",
    "tau = 0.001 #Rate to update target network toward primary network"
   ]
  },
  {
   "cell_type": "code",
   "execution_count": 20,
   "metadata": {
    "collapsed": false,
    "scrolled": true
   },
   "outputs": [
    {
     "name": "stdout",
     "output_type": "stream",
     "text": [
      "Loading Model...\n",
      "INFO:tensorflow:Restoring parameters from ./dqn_breakout/model-1000.ckpt\n"
     ]
    },
    {
     "name": "stderr",
     "output_type": "stream",
     "text": [
      "INFO:tensorflow:Restoring parameters from ./dqn_breakout/model-1000.ckpt\n",
      "[2017-11-29 02:41:04,864] Restoring parameters from ./dqn_breakout/model-1000.ckpt\n"
     ]
    },
    {
     "name": "stdout",
     "output_type": "stream",
     "text": [
      "Saved Model\n",
      "Episode 9 reward: 1.0\n",
      "Episode 19 reward: 1.3\n",
      "Episode 29 reward: 1.3\n",
      "Episode 39 reward: 1.4\n",
      "Episode 49 reward: 0.6\n",
      "Episode 59 reward: 0.8\n",
      "Episode 69 reward: 1.2\n",
      "Episode 79 reward: 3.2\n",
      "Episode 89 reward: 4.4\n",
      "Episode 99 reward: 8.8\n",
      "Episode 109 reward: 11.6\n",
      "Episode 119 reward: 10.8\n",
      "Episode 129 reward: 9.9\n",
      "Episode 139 reward: 10.2\n",
      "Episode 149 reward: 9.1\n",
      "Episode 159 reward: 11.1\n",
      "Episode 169 reward: 9.5\n",
      "Episode 179 reward: 10.7\n",
      "Episode 189 reward: 12.0\n",
      "Episode 199 reward: 14.2\n",
      "Episode 209 reward: 13.5\n",
      "Episode 219 reward: 17.0\n",
      "Episode 229 reward: 14.6\n",
      "Episode 239 reward: 14.1\n",
      "Episode 249 reward: 13.2\n",
      "Episode 259 reward: 13.0\n",
      "Episode 269 reward: 13.8\n",
      "Episode 279 reward: 14.1\n",
      "Episode 289 reward: 12.9\n",
      "Episode 299 reward: 16.9\n",
      "Episode 309 reward: 13.7\n",
      "Episode 319 reward: 17.6\n",
      "Episode 329 reward: 18.0\n",
      "Episode 339 reward: 19.3\n",
      "Episode 349 reward: 18.8\n",
      "Episode 359 reward: 17.6\n",
      "Episode 369 reward: 20.4\n",
      "Episode 379 reward: 20.5\n",
      "Episode 389 reward: 19.4\n",
      "Episode 399 reward: 18.1\n",
      "Episode 409 reward: 17.8\n",
      "Episode 419 reward: 24.3\n",
      "Episode 429 reward: 21.3\n",
      "Episode 439 reward: 22.6\n",
      "Episode 449 reward: 21.7\n",
      "Episode 459 reward: 19.9\n",
      "Episode 469 reward: 23.4\n",
      "Episode 479 reward: 22.6\n",
      "Episode 489 reward: 22.5\n",
      "Episode 499 reward: 20.6\n",
      "Episode 509 reward: 23.9\n",
      "Episode 519 reward: 23.6\n",
      "Episode 529 reward: 21.8\n",
      "Episode 539 reward: 22.2\n",
      "Episode 549 reward: 22.7\n",
      "Episode 559 reward: 22.8\n",
      "Episode 569 reward: 21.3\n",
      "Episode 579 reward: 23.5\n",
      "Episode 589 reward: 28.1\n",
      "Episode 599 reward: 20.5\n",
      "Episode 609 reward: 22.8\n",
      "Episode 619 reward: 20.7\n",
      "Episode 629 reward: 25.1\n",
      "Episode 639 reward: 30.2\n",
      "Episode 649 reward: 23.1\n",
      "Episode 659 reward: 24.6\n",
      "Episode 669 reward: 24.4\n",
      "Episode 679 reward: 28.8\n",
      "Episode 689 reward: 25.6\n",
      "Episode 699 reward: 24.5\n",
      "Episode 709 reward: 29.0\n",
      "Episode 719 reward: 27.6\n",
      "Episode 729 reward: 26.6\n",
      "Episode 739 reward: 33.8\n",
      "Episode 749 reward: 39.5\n",
      "Episode 759 reward: 21.9\n",
      "Episode 769 reward: 30.8\n",
      "Episode 779 reward: 34.3\n",
      "Episode 789 reward: 27.8\n",
      "Episode 799 reward: 32.3\n",
      "Episode 809 reward: 25.4\n",
      "Episode 819 reward: 31.7\n",
      "Episode 829 reward: 34.4\n",
      "Episode 839 reward: 18.3\n",
      "Episode 849 reward: 29.2\n",
      "Episode 859 reward: 41.9\n",
      "Episode 869 reward: 35.4\n",
      "Episode 879 reward: 39.1\n",
      "Episode 889 reward: 31.8\n",
      "Episode 899 reward: 37.3\n",
      "Episode 909 reward: 34.3\n",
      "Episode 919 reward: 35.7\n",
      "Episode 929 reward: 33.0\n",
      "Episode 939 reward: 36.1\n",
      "Episode 949 reward: 34.2\n",
      "Episode 959 reward: 38.2\n",
      "Episode 969 reward: 37.3\n",
      "Episode 979 reward: 33.8\n",
      "Episode 989 reward: 38.9\n",
      "Episode 999 reward: 37.0\n",
      "Saved Model\n",
      "Episode 1009 reward: 33.7\n",
      "Episode 1019 reward: 33.4\n",
      "Episode 1029 reward: 34.4\n",
      "Episode 1039 reward: 42.4\n",
      "Episode 1049 reward: 39.6\n",
      "Episode 1059 reward: 35.1\n",
      "Episode 1069 reward: 39.4\n",
      "Episode 1079 reward: 31.7\n",
      "Episode 1089 reward: 32.8\n",
      "Episode 1099 reward: 36.3\n",
      "Episode 1109 reward: 40.4\n",
      "Episode 1119 reward: 46.7\n",
      "Episode 1129 reward: 36.3\n",
      "Episode 1139 reward: 30.3\n",
      "Episode 1149 reward: 33.4\n",
      "Episode 1159 reward: 45.9\n",
      "Episode 1169 reward: 46.6\n",
      "Episode 1179 reward: 48.0\n",
      "Episode 1189 reward: 45.3\n",
      "Episode 1199 reward: 35.1\n",
      "Episode 1209 reward: 35.3\n",
      "Episode 1219 reward: 42.8\n",
      "Episode 1229 reward: 41.9\n",
      "Episode 1239 reward: 33.3\n",
      "Episode 1249 reward: 41.2\n",
      "Episode 1259 reward: 32.1\n",
      "Episode 1269 reward: 31.4\n",
      "Episode 1279 reward: 40.7\n",
      "Episode 1289 reward: 35.1\n",
      "Episode 1299 reward: 40.8\n",
      "Episode 1309 reward: 37.4\n",
      "Episode 1319 reward: 27.3\n",
      "Episode 1329 reward: 44.7\n",
      "Episode 1339 reward: 50.3\n",
      "Episode 1349 reward: 40.1\n",
      "Episode 1359 reward: 39.8\n",
      "Episode 1369 reward: 42.5\n",
      "Episode 1379 reward: 30.3\n",
      "Episode 1389 reward: 39.2\n",
      "Episode 1399 reward: 36.7\n",
      "Episode 1409 reward: 38.1\n",
      "Episode 1419 reward: 46.7\n",
      "Episode 1429 reward: 46.4\n",
      "Episode 1439 reward: 49.1\n",
      "Episode 1449 reward: 42.8\n",
      "Episode 1459 reward: 35.3\n",
      "Episode 1469 reward: 39.3\n",
      "Episode 1479 reward: 41.0\n",
      "Episode 1489 reward: 37.9\n",
      "Episode 1499 reward: 41.9\n",
      "Episode 1509 reward: 30.7\n",
      "Episode 1519 reward: 42.7\n",
      "Episode 1529 reward: 36.0\n",
      "Episode 1539 reward: 37.2\n",
      "Episode 1549 reward: 36.2\n",
      "Episode 1559 reward: 37.3\n",
      "Episode 1569 reward: 47.5\n",
      "Episode 1579 reward: 30.1\n",
      "Episode 1589 reward: 34.0\n",
      "Episode 1599 reward: 43.3\n",
      "Episode 1609 reward: 43.3\n",
      "Episode 1619 reward: 34.9\n",
      "Episode 1629 reward: 39.1\n",
      "Episode 1639 reward: 35.8\n",
      "Episode 1649 reward: 41.3\n",
      "Episode 1659 reward: 38.4\n",
      "Episode 1669 reward: 37.0\n",
      "Episode 1679 reward: 37.1\n",
      "Episode 1689 reward: 27.3\n",
      "Episode 1699 reward: 32.6\n",
      "Episode 1709 reward: 36.3\n",
      "Episode 1719 reward: 34.1\n",
      "Episode 1729 reward: 35.0\n",
      "Episode 1739 reward: 37.9\n",
      "Episode 1749 reward: 35.3\n",
      "Episode 1759 reward: 36.7\n",
      "Episode 1769 reward: 32.1\n",
      "Episode 1779 reward: 40.8\n",
      "Episode 1789 reward: 37.4\n",
      "Episode 1799 reward: 41.8\n",
      "Episode 1809 reward: 41.4\n",
      "Episode 1819 reward: 34.4\n",
      "Episode 1829 reward: 39.7\n",
      "Episode 1839 reward: 30.7\n",
      "Episode 1849 reward: 36.5\n",
      "Episode 1859 reward: 31.6\n",
      "Episode 1869 reward: 28.7\n",
      "Episode 1879 reward: 35.2\n",
      "Episode 1889 reward: 40.7\n",
      "Episode 1899 reward: 34.1\n",
      "Episode 1909 reward: 40.0\n",
      "Episode 1919 reward: 38.4\n",
      "Episode 1929 reward: 29.8\n",
      "Episode 1939 reward: 40.2\n",
      "Episode 1949 reward: 29.4\n",
      "Episode 1959 reward: 43.1\n",
      "Episode 1969 reward: 38.8\n",
      "Episode 1979 reward: 32.1\n",
      "Episode 1989 reward: 41.1\n",
      "Episode 1999 reward: 42.1\n",
      "Saved Model\n",
      "Episode 2009 reward: 35.0\n",
      "Episode 2019 reward: 38.3\n",
      "Episode 2029 reward: 41.0\n",
      "Episode 2039 reward: 35.8\n"
     ]
    },
    {
     "ename": "KeyboardInterrupt",
     "evalue": "",
     "output_type": "error",
     "traceback": [
      "\u001b[1;31m---------------------------------------------------------------------------\u001b[0m",
      "\u001b[1;31mKeyboardInterrupt\u001b[0m                         Traceback (most recent call last)",
      "\u001b[1;32m<ipython-input-20-ca56d484e4c0>\u001b[0m in \u001b[0;36m<module>\u001b[1;34m()\u001b[0m\n\u001b[0;32m    111\u001b[0m                     \u001b[0mtarget_Q_value\u001b[0m \u001b[1;33m=\u001b[0m \u001b[0mr_batch\u001b[0m \u001b[1;33m+\u001b[0m \u001b[0my\u001b[0m\u001b[1;33m*\u001b[0m\u001b[0mtargetQN_Q_value\u001b[0m\u001b[1;33m*\u001b[0m\u001b[0mend_mat\u001b[0m\u001b[1;33m\u001b[0m\u001b[0m\n\u001b[0;32m    112\u001b[0m                     \u001b[0mtarget_Q_value\u001b[0m \u001b[1;33m=\u001b[0m \u001b[0mr_batch\u001b[0m \u001b[1;33m+\u001b[0m \u001b[0my\u001b[0m\u001b[1;33m*\u001b[0m\u001b[0mtargetQN_Q_value\u001b[0m\u001b[1;33m\u001b[0m\u001b[0m\n\u001b[1;32m--> 113\u001b[1;33m                     \u001b[0msess\u001b[0m\u001b[1;33m.\u001b[0m\u001b[0mrun\u001b[0m\u001b[1;33m(\u001b[0m\u001b[0mmainQN\u001b[0m\u001b[1;33m.\u001b[0m\u001b[0mupdateModel\u001b[0m\u001b[1;33m,\u001b[0m \u001b[0mfeed_dict\u001b[0m\u001b[1;33m=\u001b[0m\u001b[1;33m{\u001b[0m\u001b[0mmainQN\u001b[0m\u001b[1;33m.\u001b[0m\u001b[0mscalarInput\u001b[0m\u001b[1;33m:\u001b[0m\u001b[0ms_batch\u001b[0m\u001b[1;33m,\u001b[0m                                                           \u001b[0mmainQN\u001b[0m\u001b[1;33m.\u001b[0m\u001b[0mtargetQ\u001b[0m\u001b[1;33m:\u001b[0m\u001b[0mtarget_Q_value\u001b[0m\u001b[1;33m,\u001b[0m                                                           \u001b[0mmainQN\u001b[0m\u001b[1;33m.\u001b[0m\u001b[0mactions\u001b[0m\u001b[1;33m:\u001b[0m\u001b[0ma_batch\u001b[0m\u001b[1;33m}\u001b[0m\u001b[1;33m)\u001b[0m\u001b[1;33m\u001b[0m\u001b[0m\n\u001b[0m\u001b[0;32m    114\u001b[0m                     \u001b[1;31m################################################################################\u001b[0m\u001b[1;33m\u001b[0m\u001b[1;33m\u001b[0m\u001b[0m\n\u001b[0;32m    115\u001b[0m                     \u001b[1;31m#                                 END OF YOUR CODE                             #\u001b[0m\u001b[1;33m\u001b[0m\u001b[1;33m\u001b[0m\u001b[0m\n",
      "\u001b[1;32m/home/Jerry/.env/lib/python3.5/site-packages/tensorflow/python/client/session.py\u001b[0m in \u001b[0;36mrun\u001b[1;34m(self, fetches, feed_dict, options, run_metadata)\u001b[0m\n\u001b[0;32m    893\u001b[0m     \u001b[1;32mtry\u001b[0m\u001b[1;33m:\u001b[0m\u001b[1;33m\u001b[0m\u001b[0m\n\u001b[0;32m    894\u001b[0m       result = self._run(None, fetches, feed_dict, options_ptr,\n\u001b[1;32m--> 895\u001b[1;33m                          run_metadata_ptr)\n\u001b[0m\u001b[0;32m    896\u001b[0m       \u001b[1;32mif\u001b[0m \u001b[0mrun_metadata\u001b[0m\u001b[1;33m:\u001b[0m\u001b[1;33m\u001b[0m\u001b[0m\n\u001b[0;32m    897\u001b[0m         \u001b[0mproto_data\u001b[0m \u001b[1;33m=\u001b[0m \u001b[0mtf_session\u001b[0m\u001b[1;33m.\u001b[0m\u001b[0mTF_GetBuffer\u001b[0m\u001b[1;33m(\u001b[0m\u001b[0mrun_metadata_ptr\u001b[0m\u001b[1;33m)\u001b[0m\u001b[1;33m\u001b[0m\u001b[0m\n",
      "\u001b[1;32m/home/Jerry/.env/lib/python3.5/site-packages/tensorflow/python/client/session.py\u001b[0m in \u001b[0;36m_run\u001b[1;34m(self, handle, fetches, feed_dict, options, run_metadata)\u001b[0m\n\u001b[0;32m   1122\u001b[0m     \u001b[1;32mif\u001b[0m \u001b[0mfinal_fetches\u001b[0m \u001b[1;32mor\u001b[0m \u001b[0mfinal_targets\u001b[0m \u001b[1;32mor\u001b[0m \u001b[1;33m(\u001b[0m\u001b[0mhandle\u001b[0m \u001b[1;32mand\u001b[0m \u001b[0mfeed_dict_tensor\u001b[0m\u001b[1;33m)\u001b[0m\u001b[1;33m:\u001b[0m\u001b[1;33m\u001b[0m\u001b[0m\n\u001b[0;32m   1123\u001b[0m       results = self._do_run(handle, final_targets, final_fetches,\n\u001b[1;32m-> 1124\u001b[1;33m                              feed_dict_tensor, options, run_metadata)\n\u001b[0m\u001b[0;32m   1125\u001b[0m     \u001b[1;32melse\u001b[0m\u001b[1;33m:\u001b[0m\u001b[1;33m\u001b[0m\u001b[0m\n\u001b[0;32m   1126\u001b[0m       \u001b[0mresults\u001b[0m \u001b[1;33m=\u001b[0m \u001b[1;33m[\u001b[0m\u001b[1;33m]\u001b[0m\u001b[1;33m\u001b[0m\u001b[0m\n",
      "\u001b[1;32m/home/Jerry/.env/lib/python3.5/site-packages/tensorflow/python/client/session.py\u001b[0m in \u001b[0;36m_do_run\u001b[1;34m(self, handle, target_list, fetch_list, feed_dict, options, run_metadata)\u001b[0m\n\u001b[0;32m   1319\u001b[0m     \u001b[1;32mif\u001b[0m \u001b[0mhandle\u001b[0m \u001b[1;32mis\u001b[0m \u001b[1;32mNone\u001b[0m\u001b[1;33m:\u001b[0m\u001b[1;33m\u001b[0m\u001b[0m\n\u001b[0;32m   1320\u001b[0m       return self._do_call(_run_fn, self._session, feeds, fetches, targets,\n\u001b[1;32m-> 1321\u001b[1;33m                            options, run_metadata)\n\u001b[0m\u001b[0;32m   1322\u001b[0m     \u001b[1;32melse\u001b[0m\u001b[1;33m:\u001b[0m\u001b[1;33m\u001b[0m\u001b[0m\n\u001b[0;32m   1323\u001b[0m       \u001b[1;32mreturn\u001b[0m \u001b[0mself\u001b[0m\u001b[1;33m.\u001b[0m\u001b[0m_do_call\u001b[0m\u001b[1;33m(\u001b[0m\u001b[0m_prun_fn\u001b[0m\u001b[1;33m,\u001b[0m \u001b[0mself\u001b[0m\u001b[1;33m.\u001b[0m\u001b[0m_session\u001b[0m\u001b[1;33m,\u001b[0m \u001b[0mhandle\u001b[0m\u001b[1;33m,\u001b[0m \u001b[0mfeeds\u001b[0m\u001b[1;33m,\u001b[0m \u001b[0mfetches\u001b[0m\u001b[1;33m)\u001b[0m\u001b[1;33m\u001b[0m\u001b[0m\n",
      "\u001b[1;32m/home/Jerry/.env/lib/python3.5/site-packages/tensorflow/python/client/session.py\u001b[0m in \u001b[0;36m_do_call\u001b[1;34m(self, fn, *args)\u001b[0m\n\u001b[0;32m   1325\u001b[0m   \u001b[1;32mdef\u001b[0m \u001b[0m_do_call\u001b[0m\u001b[1;33m(\u001b[0m\u001b[0mself\u001b[0m\u001b[1;33m,\u001b[0m \u001b[0mfn\u001b[0m\u001b[1;33m,\u001b[0m \u001b[1;33m*\u001b[0m\u001b[0margs\u001b[0m\u001b[1;33m)\u001b[0m\u001b[1;33m:\u001b[0m\u001b[1;33m\u001b[0m\u001b[0m\n\u001b[0;32m   1326\u001b[0m     \u001b[1;32mtry\u001b[0m\u001b[1;33m:\u001b[0m\u001b[1;33m\u001b[0m\u001b[0m\n\u001b[1;32m-> 1327\u001b[1;33m       \u001b[1;32mreturn\u001b[0m \u001b[0mfn\u001b[0m\u001b[1;33m(\u001b[0m\u001b[1;33m*\u001b[0m\u001b[0margs\u001b[0m\u001b[1;33m)\u001b[0m\u001b[1;33m\u001b[0m\u001b[0m\n\u001b[0m\u001b[0;32m   1328\u001b[0m     \u001b[1;32mexcept\u001b[0m \u001b[0merrors\u001b[0m\u001b[1;33m.\u001b[0m\u001b[0mOpError\u001b[0m \u001b[1;32mas\u001b[0m \u001b[0me\u001b[0m\u001b[1;33m:\u001b[0m\u001b[1;33m\u001b[0m\u001b[0m\n\u001b[0;32m   1329\u001b[0m       \u001b[0mmessage\u001b[0m \u001b[1;33m=\u001b[0m \u001b[0mcompat\u001b[0m\u001b[1;33m.\u001b[0m\u001b[0mas_text\u001b[0m\u001b[1;33m(\u001b[0m\u001b[0me\u001b[0m\u001b[1;33m.\u001b[0m\u001b[0mmessage\u001b[0m\u001b[1;33m)\u001b[0m\u001b[1;33m\u001b[0m\u001b[0m\n",
      "\u001b[1;32m/home/Jerry/.env/lib/python3.5/site-packages/tensorflow/python/client/session.py\u001b[0m in \u001b[0;36m_run_fn\u001b[1;34m(session, feed_dict, fetch_list, target_list, options, run_metadata)\u001b[0m\n\u001b[0;32m   1304\u001b[0m           return tf_session.TF_Run(session, options,\n\u001b[0;32m   1305\u001b[0m                                    \u001b[0mfeed_dict\u001b[0m\u001b[1;33m,\u001b[0m \u001b[0mfetch_list\u001b[0m\u001b[1;33m,\u001b[0m \u001b[0mtarget_list\u001b[0m\u001b[1;33m,\u001b[0m\u001b[1;33m\u001b[0m\u001b[0m\n\u001b[1;32m-> 1306\u001b[1;33m                                    status, run_metadata)\n\u001b[0m\u001b[0;32m   1307\u001b[0m \u001b[1;33m\u001b[0m\u001b[0m\n\u001b[0;32m   1308\u001b[0m     \u001b[1;32mdef\u001b[0m \u001b[0m_prun_fn\u001b[0m\u001b[1;33m(\u001b[0m\u001b[0msession\u001b[0m\u001b[1;33m,\u001b[0m \u001b[0mhandle\u001b[0m\u001b[1;33m,\u001b[0m \u001b[0mfeed_dict\u001b[0m\u001b[1;33m,\u001b[0m \u001b[0mfetch_list\u001b[0m\u001b[1;33m)\u001b[0m\u001b[1;33m:\u001b[0m\u001b[1;33m\u001b[0m\u001b[0m\n",
      "\u001b[1;31mKeyboardInterrupt\u001b[0m: "
     ]
    }
   ],
   "source": [
    "tf.reset_default_graph()\n",
    "mainQN = Qnetwork(h_size)\n",
    "targetQN = Qnetwork(h_size)\n",
    "\n",
    "init = tf.global_variables_initializer()\n",
    "\n",
    "saver = tf.train.Saver()\n",
    "\n",
    "trainables = tf.trainable_variables()\n",
    "\n",
    "targetOps = updateTargetGraph(trainables,tau)\n",
    "\n",
    "myBuffer = experience_buffer()\n",
    "\n",
    "#Set the rate of random action decrease. \n",
    "e = startE\n",
    "stepDrop = (startE - endE)/annealing_steps\n",
    "\n",
    "#create lists to contain total rewards and steps per episode\n",
    "jList = []\n",
    "rList = []\n",
    "total_steps = 0\n",
    "\n",
    "\n",
    "#Make a path for our model to be saved in.\n",
    "if not os.path.exists(path):\n",
    "    os.makedirs(path)\n",
    "\n",
    "with tf.Session() as sess:\n",
    "    sess.run(init)\n",
    "    if load_model == True:\n",
    "        print('Loading Model...')\n",
    "        ckpt = tf.train.get_checkpoint_state(path)\n",
    "        saver.restore(sess,ckpt.model_checkpoint_path)\n",
    "    for i in range(num_episodes):\n",
    "        episodeBuffer = experience_buffer()\n",
    "        #Reset environment and get first new observation\n",
    "        s = env.reset()\n",
    "        state_history = []\n",
    "        for idx in range(4):\n",
    "            state_history.append(preprocess(s))\n",
    "        s = state2input(state_history, s)\n",
    "        s = processState(s)\n",
    "        d = False\n",
    "        rAll = 0\n",
    "        j = 0\n",
    "        #The Q-Network\n",
    "#         while j < max_epLength: #If the agent takes longer than 50 moves to reach either of the blocks, end the trial.\n",
    "        while True:\n",
    "            j+=1\n",
    "            #Choose an action by greedily (with e chance of random action) from the Q-network\n",
    "            if np.random.rand(1) < e or total_steps < pre_train_steps:\n",
    "                a = np.random.randint(0,4)\n",
    "            else:\n",
    "                a = sess.run(mainQN.predict,feed_dict={mainQN.scalarInput:[s]})[0]\n",
    "            total_steps += 1\n",
    "            \n",
    "            ################################################################################\n",
    "            # TODO: Save the experience to our episode buffer.                             #\n",
    "            # You will need to do the following:                                           #\n",
    "            # (1) Get new state s1 (resized), reward r and done d from a                   #\n",
    "            # (2) Add experience to episode buffer. Hint: experience includes              #\n",
    "            #     s, a, r, s1 and d.                                                       #\n",
    "            ################################################################################\n",
    "            pass\n",
    "#             r = 0\n",
    "#             d = False\n",
    "#             for idx in range(4):\n",
    "#                 _s1, _r, _d, _ = env.step(a)\n",
    "#                 s1 = state2input(state_history, _s1)\n",
    "#                 r += _r\n",
    "#                 d = d or _d\n",
    "            s1, _r, d, _ = env.step(a)\n",
    "            s1 = state2input(state_history, s1)\n",
    "            r = transform_reward(_r)\n",
    "            s1 = processState(s1)\n",
    "            episodeBuffer.add(np.reshape(np.array([s, a, r, s1, d]), [1, 5]))\n",
    "            ################################################################################\n",
    "            #                                 END OF YOUR CODE                             #\n",
    "            ##############################################################################\n",
    "            \n",
    "            if total_steps > pre_train_steps:\n",
    "                if e > endE:\n",
    "                    e -= stepDrop\n",
    "                \n",
    "                if total_steps % (update_freq) == 0:\n",
    "                    \n",
    "                    ################################################################################\n",
    "                    # TODO: Implement Double-DQN                                                   #\n",
    "                    # (1) Get a random batch of experiences via experience_buffer class            #\n",
    "                    #                                                                              #\n",
    "                    # (2) Perform the Double-DQN update to the target Q-values                     #\n",
    "                    #     Hint: Use mainQN and targetQN separately to chose an action and predict  #\n",
    "                    #     the Q-values for that action.                                            #\n",
    "                    #     Then compute targetQ based on Double-DQN equation                        #\n",
    "                    #                                                                              #\n",
    "                    # (3) Update the primary network with our target values                        #\n",
    "                    ################################################################################ \n",
    "                    pass\n",
    "                    exp_batch = myBuffer.sample(batch_size)\n",
    "                    s_batch = np.vstack(exp_batch[:, 0])\n",
    "                    a_batch = exp_batch[:, 1]\n",
    "                    r_batch = exp_batch[:, 2]\n",
    "                    s1_batch = np.vstack(exp_batch[:, 3])\n",
    "                    d_batch = exp_batch[:, 4]\n",
    "#                     print (exp_batch.shape, s_batch.shape, a_batch.shape, r_batch.shape, s1_batch.shape, d_batch.shape)\n",
    "                    mainQN_predict = sess.run(mainQN.predict, feed_dict={mainQN.scalarInput:s1_batch})\n",
    "                    targetQN_Qout = sess.run(targetQN.Qout, feed_dict={targetQN.scalarInput:s1_batch})\n",
    "                    targetQN_Q_value = targetQN_Qout[range(batch_size), mainQN_predict]\n",
    "                    end_mat = -(d_batch-1)\n",
    "                    target_Q_value = r_batch + y*targetQN_Q_value*end_mat\n",
    "                    target_Q_value = r_batch + y*targetQN_Q_value\n",
    "                    sess.run(mainQN.updateModel, feed_dict={mainQN.scalarInput:s_batch,\\\n",
    "                                                           mainQN.targetQ:target_Q_value,\\\n",
    "                                                           mainQN.actions:a_batch})\n",
    "                    ################################################################################\n",
    "                    #                                 END OF YOUR CODE                             #\n",
    "                    ################################################################################\n",
    "                           \n",
    "                    updateTarget(targetOps,sess) #Update the target network toward the primary network.\n",
    "            rAll += _r\n",
    "            s = s1\n",
    "            \n",
    "            if d == True:\n",
    "\n",
    "                break\n",
    "        \n",
    "        myBuffer.add(episodeBuffer.buffer)\n",
    "        jList.append(j)\n",
    "        rList.append(rAll)\n",
    "        #Periodically save the model. \n",
    "        if i % 1000 == 0:\n",
    "            saver.save(sess,path+'/model-'+str(i)+'.ckpt')\n",
    "            print(\"Saved Model\")\n",
    "        if len(rList) % 10 == 0:\n",
    "            print(\"Episode\",i,\"reward:\",np.mean(rList[-10:]))\n",
    "    saver.save(sess,path+'/model-'+str(i)+'.ckpt')\n",
    "print(\"Mean reward per episode: \" + str(sum(rList)/num_episodes))"
   ]
  },
  {
   "cell_type": "markdown",
   "metadata": {},
   "source": [
    "It takes about 40 minutes to train 5000 episodes in Lab 4 machines. Mean reward per episode (50 steps) should be around 20"
   ]
  },
  {
   "cell_type": "markdown",
   "metadata": {},
   "source": [
    "### Checking network learning"
   ]
  },
  {
   "cell_type": "markdown",
   "metadata": {},
   "source": [
    "Mean reward over time"
   ]
  },
  {
   "cell_type": "code",
   "execution_count": 21,
   "metadata": {
    "collapsed": false
   },
   "outputs": [
    {
     "data": {
      "text/plain": [
       "[<matplotlib.lines.Line2D at 0x7f4951bcc630>]"
      ]
     },
     "execution_count": 21,
     "metadata": {},
     "output_type": "execute_result"
    },
    {
     "data": {
      "image/png": "[encoded data removed]",
      "text/plain": [
       "<matplotlib.figure.Figure at 0x7f4a39adebe0>"
      ]
     },
     "metadata": {},
     "output_type": "display_data"
    }
   ],
   "source": [
    "rMat = np.resize(np.array(rList),[len(rList)//100,100])\n",
    "rMean = np.average(rMat,1)\n",
    "plt.plot(rMean)"
   ]
  },
  {
   "cell_type": "code",
   "execution_count": null,
   "metadata": {
    "collapsed": true
   },
   "outputs": [],
   "source": []
  }
 ],
 "metadata": {
  "anaconda-cloud": {},
  "kernelspec": {
   "display_name": "Python 3",
   "language": "python",
   "name": "python3"
  },
  "language_info": {
   "codemirror_mode": {
    "name": "ipython",
    "version": 3
   },
   "file_extension": ".py",
   "mimetype": "text/x-python",
   "name": "python",
   "nbconvert_exporter": "python",
   "pygments_lexer": "ipython3",
   "version": "3.5.2"
  }
 },
 "nbformat": 4,
 "nbformat_minor": 1
}
